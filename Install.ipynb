{
 "cells": [
  {
   "cell_type": "markdown",
   "metadata": {
    "colab_type": "text",
    "id": "BYRzi4FFpj2r"
   },
   "source": [
    "# Why this notebook ? \n",
    "This notebook aims to prepare the environment for the preprocessing and the model  notebook by preparing a file hierarchy and installing required files and data."
   ]
  },
  {
   "cell_type": "markdown",
   "metadata": {
    "colab_type": "text",
    "id": "QiQmI76gqXp_"
   },
   "source": [
    "# Variables"
   ]
  },
  {
   "cell_type": "code",
   "execution_count": 0,
   "metadata": {
    "colab": {},
    "colab_type": "code",
    "id": "34Lw8krjqabf"
   },
   "outputs": [],
   "source": [
    "import os\n",
    "\n",
    "root_path = ''"
   ]
  },
  {
   "cell_type": "markdown",
   "metadata": {
    "colab_type": "text",
    "id": "iYaoq6EFvmnW"
   },
   "source": [
    "# Install VQA V2 dataset"
   ]
  },
  {
   "cell_type": "code",
   "execution_count": 0,
   "metadata": {
    "colab": {},
    "colab_type": "code",
    "id": "1hokLWEstl3h"
   },
   "outputs": [],
   "source": [
    "os.chdir(root_path)\n",
    "!mkdir VQA_dataset\n",
    "os.chdir(VQA_dataset)\n",
    "!mkdir train\n",
    "!mkdir val\n",
    "VQA_train_root = os.path.join(root_path, 'VQA_dataset/train')\n",
    "VQA_val_root = os.path.join(root_path, 'VQA_dataset/val')"
   ]
  },
  {
   "cell_type": "markdown",
   "metadata": {
    "colab_type": "text",
    "id": "o9IleCK8qSVY"
   },
   "source": [
    "## install VQA V2 train images, questions, anwsers and complementary file."
   ]
  },
  {
   "cell_type": "code",
   "execution_count": 0,
   "metadata": {
    "colab": {},
    "colab_type": "code",
    "id": "g-GbhyL2pcdQ"
   },
   "outputs": [],
   "source": [
    "# Images\n",
    "os.chdir(VQA_train_root)\n",
    "!wget http://images.cocodataset.org/zips/train2014.zip\n",
    "!unzip train2014.zip\n",
    "\n",
    "# Questions\n",
    "!wget https://s3.amazonaws.com/cvmlp/vqa/mscoco/vqa/v2_Questions_Train_mscoco.zip\n",
    "!unzip v2_Questions_Train_mscoco.zip\n",
    "\n",
    "#Answers \n",
    "!wget https://s3.amazonaws.com/cvmlp/vqa/mscoco/vqa/v2_Annotations_Train_mscoco.zip\n",
    "!unzip v2_Annotations_Train_mscoco.zip\n",
    "\n",
    "#Complementary file\n",
    "!wget https://s3.amazonaws.com/cvmlp/vqa/mscoco/vqa/v2_Complementary_Pairs_Train_mscoco.zip\n",
    "!unzip v2_Complementary_Pairs_Train_mscoco.zip"
   ]
  },
  {
   "cell_type": "markdown",
   "metadata": {
    "colab_type": "text",
    "id": "TEX4_lhytPDq"
   },
   "source": [
    "## install VQA V2 val images, questions, and anwsers."
   ]
  },
  {
   "cell_type": "code",
   "execution_count": 0,
   "metadata": {
    "colab": {},
    "colab_type": "code",
    "id": "d9V0t7IGu7zw"
   },
   "outputs": [],
   "source": [
    "# Images\n",
    "os.chdir(VQA_val_root)\n",
    "!wget http://images.cocodataset.org/zips/val2014.zip\n",
    "!unzip val2014.zip\n",
    "\n",
    "# Questions\n",
    "!wget https://s3.amazonaws.com/cvmlp/vqa/mscoco/vqa/v2_Questions_Val_mscoco.zip\n",
    "!unzip v2_Questions_Val_mscoco.zip\n",
    "\n",
    "#Answers \n",
    "!wget https://s3.amazonaws.com/cvmlp/vqa/mscoco/vqa/v2_Annotations_Val_mscoco.zip\n",
    "!unzip v2_Annotations_Val_mscoco.zip\n"
   ]
  },
  {
   "cell_type": "markdown",
   "metadata": {
    "colab_type": "text",
    "id": "PVNjk4lZx6Z5"
   },
   "source": [
    "# Generated preprocessed features directories"
   ]
  },
  {
   "cell_type": "code",
   "execution_count": 0,
   "metadata": {
    "colab": {},
    "colab_type": "code",
    "id": "5tS9QFZQyLrg"
   },
   "outputs": [],
   "source": [
    "os.chdir(root_path)\n",
    "!mkdir features\n",
    "features\n",
    "os.chdir(features)\n",
    "!mkdir train_features\n",
    "!mkdir val_features"
   ]
  },
  {
   "cell_type": "markdown",
   "metadata": {
    "colab_type": "text",
    "id": "OnII5s_xy9JS"
   },
   "source": [
    "# Training results directories"
   ]
  },
  {
   "cell_type": "code",
   "execution_count": 0,
   "metadata": {
    "colab": {},
    "colab_type": "code",
    "id": "GTZe4_e9zHi6"
   },
   "outputs": [],
   "source": [
    "os.chdir(root_path)\n",
    "!mkdir results\n",
    "os.chdir(results)\n",
    "!mkdir tensorboard_files\n",
    "!mkdir checkpoint_files\n",
    "!mkdir best_model"
   ]
  },
  {
   "cell_type": "markdown",
   "metadata": {
    "colab_type": "text",
    "id": "QgUFd02f1gJh"
   },
   "source": [
    "# install Glove file"
   ]
  },
  {
   "cell_type": "code",
   "execution_count": 0,
   "metadata": {
    "colab": {},
    "colab_type": "code",
    "id": "Mvw9zcOA1kIy"
   },
   "outputs": [],
   "source": [
    "os.chdir(root_path)\n",
    "!mkdir glove\n",
    "os.chdir(glove)\n",
    "!wget http://nlp.stanford.edu/data/glove.6B.zip\n",
    "!unzip glove.6B.zip"
   ]
  }
 ],
 "metadata": {
  "colab": {
   "collapsed_sections": [],
   "name": "Install.ipynb",
   "provenance": [],
   "toc_visible": true,
   "version": "0.3.2"
  },
  "kernelspec": {
   "display_name": "Python 3",
   "language": "python",
   "name": "python3"
  },
  "language_info": {
   "codemirror_mode": {
    "name": "ipython",
    "version": 3
   },
   "file_extension": ".py",
   "mimetype": "text/x-python",
   "name": "python",
   "nbconvert_exporter": "python",
   "pygments_lexer": "ipython3",
   "version": "3.6.8"
  }
 },
 "nbformat": 4,
 "nbformat_minor": 1
}
