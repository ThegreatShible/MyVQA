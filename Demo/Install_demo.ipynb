{
  "nbformat": 4,
  "nbformat_minor": 0,
  "metadata": {
    "colab": {
      "name": "Install_demo.ipynb",
      "version": "0.3.2",
      "provenance": []
    },
    "kernelspec": {
      "name": "python3",
      "display_name": "Python 3"
    }
  },
  "cells": [
    {
      "cell_type": "markdown",
      "metadata": {
        "id": "QlsBjTkj1jzm",
        "colab_type": "text"
      },
      "source": [
        "# Why this notebook ?\n",
        "This notebook aims to prepare the environment to execute to standalone_VQA_demo.ipynb notebook by preparing a file hierarchy and installing required files and data."
      ]
    },
    {
      "cell_type": "markdown",
      "metadata": {
        "id": "MFwiLPkg1oMw",
        "colab_type": "text"
      },
      "source": [
        "# Define root variable"
      ]
    },
    {
      "cell_type": "code",
      "metadata": {
        "id": "KwzgyD3ixfdl",
        "colab_type": "code",
        "colab": {}
      },
      "source": [
        "import os \n",
        "demo_root = ''"
      ],
      "execution_count": 0,
      "outputs": []
    },
    {
      "cell_type": "markdown",
      "metadata": {
        "id": "NmAZkGzO1vSl",
        "colab_type": "text"
      },
      "source": [
        "# Definer and download other variables"
      ]
    },
    {
      "cell_type": "code",
      "metadata": {
        "id": "NsYS61bP13eY",
        "colab_type": "code",
        "colab": {}
      },
      "source": [
        "os.chdir(demo_root)\n",
        "\n",
        "# Questions\n",
        "!wget https://s3.amazonaws.com/cvmlp/vqa/mscoco/vqa/v2_Questions_Train_mscoco.zip\n",
        "!unzip v2_Questions_Train_mscoco.zip\n",
        "\n",
        "#Answers \n",
        "!wget https://s3.amazonaws.com/cvmlp/vqa/mscoco/vqa/v2_Annotations_Train_mscoco.zip\n",
        "!unzip v2_Annotations_Train_mscoco.zip\n",
        "\n",
        "!wget http://nlp.stanford.edu/data/glove.6B.zip\n",
        "!unzip glove.6B.zip\n"
      ],
      "execution_count": 0,
      "outputs": []
    },
    {
      "cell_type": "markdown",
      "metadata": {
        "id": "-oWlQOno25Mq",
        "colab_type": "text"
      },
      "source": [
        "# Pretrained model: TODO"
      ]
    }
  ]
}